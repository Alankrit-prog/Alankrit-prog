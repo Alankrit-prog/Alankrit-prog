{
  "nbformat": 4,
  "nbformat_minor": 0,
  "metadata": {
    "colab": {
      "name": "Eight_queens.ipynb",
      "provenance": [],
      "collapsed_sections": [],
      "authorship_tag": "ABX9TyOoTtDqUhIg9C0iyFEcCCua",
      "include_colab_link": true
    },
    "kernelspec": {
      "name": "python3",
      "display_name": "Python 3"
    },
    "language_info": {
      "name": "python"
    }
  },
  "cells": [
    {
      "cell_type": "markdown",
      "metadata": {
        "id": "view-in-github",
        "colab_type": "text"
      },
      "source": [
        "<a href=\"https://colab.research.google.com/github/Alankrit-prog/Alankrit-prog/blob/main/Eight_queens.ipynb\" target=\"_parent\"><img src=\"https://colab.research.google.com/assets/colab-badge.svg\" alt=\"Open In Colab\"/></a>"
      ]
    },
    {
      "cell_type": "code",
      "execution_count": 1,
      "metadata": {
        "colab": {
          "base_uri": "https://localhost:8080/"
        },
        "id": "_bAcXWupCy4M",
        "outputId": "436a7a5f-2115-4a60-cc77-a0af8d0bd633"
      },
      "outputs": [
        {
          "output_type": "stream",
          "name": "stdout",
          "text": [
            "Enter the value of n8\n",
            "1 0 0 0 0 0 0 0 \n",
            "0 0 0 0 1 0 0 0 \n",
            "0 0 0 0 0 0 0 1 \n",
            "0 0 0 0 0 1 0 0 \n",
            "0 0 1 0 0 0 0 0 \n",
            "0 0 0 0 0 0 1 0 \n",
            "0 1 0 0 0 0 0 0 \n",
            "0 0 0 1 0 0 0 0 \n"
          ]
        }
      ],
      "source": [
        "n = int(input(\"Enter the value of n\"))\n",
        "board = []\n",
        "\n",
        "def getBoard():\n",
        "    for i in range(n):\n",
        "        nthList = []\n",
        "        for j in range(n):\n",
        "            nthList.append(0)\n",
        "        board.append(nthList)\n",
        "\n",
        "def printBoard():\n",
        "    for i in range(n):\n",
        "        for j in range(n):\n",
        "            print(board[i][j], end = \" \")\n",
        "        print(\"\")\n",
        "        \n",
        "def isSafe(row, col):\n",
        "    for i in range(n):\n",
        "        if board[row][i] == 1:\n",
        "            return False\n",
        "    for j in range(n):\n",
        "        if board[j][col] == 1:\n",
        "            return False\n",
        "        \n",
        "    i = row-1\n",
        "    j = col-1\n",
        "    while(i>=0 and j>=0):\n",
        "        if board[i][j] == 1:\n",
        "            return False\n",
        "        i = i-1\n",
        "        j = j-1\n",
        "\n",
        "    i = row-1\n",
        "    j = col+1\n",
        "    while(i>=0 and j<n):\n",
        "        if board[i][j] == 1:\n",
        "            return False\n",
        "        i = i-1\n",
        "        j = j+1\n",
        "\n",
        "    i = row+1\n",
        "    j = col-1\n",
        "    while(i<n and j>=0):\n",
        "        if board[i][j] == 1:\n",
        "            return False\n",
        "        i = i+1\n",
        "        j = j-1\n",
        "\n",
        "    i = row+1\n",
        "    j = col+1\n",
        "    while(i<n and j<n):\n",
        "        if board[i][j] == 1:\n",
        "            return False\n",
        "        i = i+1\n",
        "        j = j+1\n",
        "    return True\n",
        "\n",
        "def Put(n, count):\n",
        "    if count == n:\n",
        "        return True\n",
        "    for i in range(n):\n",
        "        for j in range(n):\n",
        "            if isSafe(i, j):\n",
        "                board[i][j] = 1\n",
        "                count = count+1\n",
        "                if Put(n, count) == True:\n",
        "                    return True\n",
        "                board[i][j] = 0\n",
        "                count = count-1\n",
        "    return False\n",
        "\n",
        "getBoard()\n",
        "Put(n, 0)\n",
        "printBoard()"
      ]
    }
  ]
}